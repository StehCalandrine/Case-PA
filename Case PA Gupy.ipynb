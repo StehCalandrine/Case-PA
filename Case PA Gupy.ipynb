{
 "cells": [
  {
   "cell_type": "code",
   "execution_count": 1,
   "id": "57594479",
   "metadata": {},
   "outputs": [
    {
     "name": "stdout",
     "output_type": "stream",
     "text": [
      "Warning: Maximum number of iterations has been exceeded.\n",
      "         Current function value: inf\n",
      "         Iterations: 35\n"
     ]
    },
    {
     "name": "stderr",
     "output_type": "stream",
     "text": [
      "C:\\Users\\stephanie.calandrine\\AppData\\Roaming\\Python\\Python38\\site-packages\\statsmodels\\discrete\\discrete_model.py:2385: RuntimeWarning: overflow encountered in exp\n",
      "  return 1/(1+np.exp(-X))\n",
      "C:\\Users\\stephanie.calandrine\\AppData\\Roaming\\Python\\Python38\\site-packages\\statsmodels\\discrete\\discrete_model.py:2443: RuntimeWarning: divide by zero encountered in log\n",
      "  return np.sum(np.log(self.cdf(q * linpred)))\n",
      "C:\\Users\\stephanie.calandrine\\AppData\\Roaming\\Python\\Python38\\site-packages\\statsmodels\\base\\model.py:607: ConvergenceWarning: Maximum Likelihood optimization failed to converge. Check mle_retvals\n",
      "  warnings.warn(\"Maximum Likelihood optimization failed to \"\n"
     ]
    }
   ],
   "source": [
    "import pandas as pd\n",
    "import statsmodels.api as sm\n",
    "import numpy as np\n",
    "import seaborn as sns\n",
    "import matplotlib.pyplot as plt\n",
    "\n",
    "# Carregar os dados\n",
    "data = pd.read_excel('[case]_base_people.xlsx')\n",
    "\n",
    "# Transformar variáveis categóricas em variáveis dummy\n",
    "data = pd.get_dummies(data, drop_first=True)\n",
    "\n",
    "# Definir as variáveis independentes (fatores que afetam a saída do funcionário)\n",
    "X = data.drop(columns=['PediuDemissão_Sim'])\n",
    "\n",
    "# Adicionar uma constante para o termo independente\n",
    "X = sm.add_constant(X)\n",
    "\n",
    "# Definir a variável dependente (saída do funcionário)\n",
    "y = data['PediuDemissão_Sim']\n",
    "\n",
    "# Criar o modelo de regressão logística\n",
    "model = sm.Logit(y, X)\n",
    "\n",
    "# Ajustar o modelo\n",
    "result = model.fit()"
   ]
  },
  {
   "cell_type": "markdown",
   "id": "a3d3da4f",
   "metadata": {},
   "source": [
    "O modelo não convergiu devido a multicolinearidade entre as variáveis, ou seja, significa que uma variável \n",
    "pode ser perfeitamente prevista por uma combinação linear das outras variáveis\"\n",
    "\n",
    "Por isso removemos variáveis que altamente correlacionadas entre si pra reduzir a multicolinearidade"
   ]
  },
  {
   "cell_type": "code",
   "execution_count": 2,
   "id": "a7d22976",
   "metadata": {},
   "outputs": [
    {
     "name": "stdout",
     "output_type": "stream",
     "text": [
      "Optimization terminated successfully.\n",
      "         Current function value: inf\n",
      "         Iterations 8\n",
      "                           Logit Regression Results                           \n",
      "==============================================================================\n",
      "Dep. Variable:      PediuDemissão_Sim   No. Observations:                 1469\n",
      "Model:                          Logit   Df Residuals:                     1438\n",
      "Method:                           MLE   Df Model:                           30\n",
      "Date:                Thu, 02 May 2024   Pseudo R-squ.:                     inf\n",
      "Time:                        12:17:12   Log-Likelihood:                   -inf\n",
      "converged:                       True   LL-Null:                        0.0000\n",
      "Covariance Type:            nonrobust   LLR p-value:                     1.000\n",
      "=======================================================================================================\n",
      "                                          coef    std err          z      P>|z|      [0.025      0.975]\n",
      "-------------------------------------------------------------------------------------------------------\n",
      "const                                   1.9656      1.005      1.955      0.051      -0.005       3.936\n",
      "Idade                                  -0.0436      0.012     -3.770      0.000      -0.066      -0.021\n",
      "DistanciaDaEmpresa                      0.0389      0.010      3.863      0.000       0.019       0.059\n",
      "PesquisaDeSatisfação                   -0.3500      0.075     -4.664      0.000      -0.497      -0.203\n",
      "Salário                             -2.919e-05   5.12e-05     -0.570      0.569      -0.000    7.12e-05\n",
      "QtdEmpresasQueJáTrabalhou               0.1608      0.035      4.600      0.000       0.092       0.229\n",
      "UltimaNotaAvaliaçãoDesempenho          -0.1458      0.133     -1.098      0.272      -0.406       0.114\n",
      "SatisfaçãoComColegas                   -0.2415      0.077     -3.124      0.002      -0.393      -0.090\n",
      "TotalDeAçõesDaEmpresa                  -0.2587      0.150     -1.728      0.084      -0.552       0.035\n",
      "TotalDeTreinamentoUltimoAno            -0.1478      0.069     -2.145      0.032      -0.283      -0.013\n",
      "AnosNestaEmpresa                       -0.0650      0.025     -2.580      0.010      -0.114      -0.016\n",
      "AnosDesdeUltimaPromoção                 0.1288      0.038      3.380      0.001       0.054       0.203\n",
      "ViajaPeloTrabalho_Nunca                -1.6177      0.381     -4.247      0.000      -2.364      -0.871\n",
      "ViajaPeloTrabalho_Raramente            -0.8379      0.198     -4.229      0.000      -1.226      -0.450\n",
      "Departamento_Research & Development    -0.7752      0.386     -2.006      0.045      -1.533      -0.018\n",
      "CampoDeEducação_Life Sciences          -0.5120      0.680     -0.753      0.452      -1.845       0.821\n",
      "CampoDeEducação_Marketing              -0.0987      0.723     -0.137      0.891      -1.516       1.318\n",
      "CampoDeEducação_Medical                -0.6023      0.682     -0.883      0.377      -1.940       0.735\n",
      "CampoDeEducação_Other                  -0.9095      0.755     -1.204      0.228      -2.389       0.570\n",
      "CampoDeEducação_Technical Degree        0.1476      0.706      0.209      0.834      -1.237       1.532\n",
      "Genero_Masculino                        0.3728      0.174      2.139      0.032       0.031       0.714\n",
      "Cargo_Human Resources                   0.4520      0.540      0.836      0.403      -0.607       1.511\n",
      "Cargo_Laboratory Technician             1.2975      0.416      3.119      0.002       0.482       2.113\n",
      "Cargo_Manager                          -0.1769      0.696     -0.254      0.799      -1.541       1.188\n",
      "Cargo_Manufacturing Director           -0.1791      0.489     -0.366      0.714      -1.138       0.780\n",
      "Cargo_Research Director                -0.8890      0.916     -0.971      0.332      -2.684       0.906\n",
      "Cargo_Research Scientist                0.3995      0.424      0.942      0.346      -0.432       1.231\n",
      "Cargo_Sales Representative              0.9583      0.371      2.583      0.010       0.231       1.685\n",
      "StatusCivil_Divorciado                 -0.2003      0.256     -0.784      0.433      -0.701       0.301\n",
      "StatusCivil_Solteiro                    0.7474      0.234      3.199      0.001       0.289       1.205\n",
      "FazHoraExtra_Sim                        1.7581      0.178      9.888      0.000       1.410       2.107\n",
      "=======================================================================================================\n"
     ]
    },
    {
     "name": "stderr",
     "output_type": "stream",
     "text": [
      "<ipython-input-2-1bca0a655bdd>:5: DeprecationWarning: `np.bool` is a deprecated alias for the builtin `bool`. To silence this warning, use `bool` by itself. Doing this will not modify any behavior and is safe. If you specifically wanted the numpy scalar type, use `np.bool_` here.\n",
      "Deprecated in NumPy 1.20; for more details and guidance: https://numpy.org/devdocs/release/1.20.0-notes.html#deprecations\n",
      "  upper = correlation_matrix.where(np.triu(np.ones(correlation_matrix.shape), k=1).astype(np.bool))\n",
      "C:\\Users\\stephanie.calandrine\\AppData\\Roaming\\Python\\Python38\\site-packages\\statsmodels\\discrete\\discrete_model.py:2385: RuntimeWarning: overflow encountered in exp\n",
      "  return 1/(1+np.exp(-X))\n",
      "C:\\Users\\stephanie.calandrine\\AppData\\Roaming\\Python\\Python38\\site-packages\\statsmodels\\discrete\\discrete_model.py:2443: RuntimeWarning: divide by zero encountered in log\n",
      "  return np.sum(np.log(self.cdf(q * linpred)))\n",
      "C:\\Users\\stephanie.calandrine\\AppData\\Roaming\\Python\\Python38\\site-packages\\statsmodels\\base\\model.py:595: HessianInversionWarning: Inverting hessian failed, no bse or cov_params available\n",
      "  warnings.warn('Inverting hessian failed, no bse or cov_params '\n",
      "C:\\Users\\stephanie.calandrine\\AppData\\Roaming\\Python\\Python38\\site-packages\\statsmodels\\base\\model.py:595: HessianInversionWarning: Inverting hessian failed, no bse or cov_params available\n",
      "  warnings.warn('Inverting hessian failed, no bse or cov_params '\n"
     ]
    }
   ],
   "source": [
    "# Calcular a matriz de correlação\n",
    "correlation_matrix = data.corr().abs()\n",
    "\n",
    "# Selecionar triângulo superior da matriz de correlação\n",
    "upper = correlation_matrix.where(np.triu(np.ones(correlation_matrix.shape), k=1).astype(np.bool))\n",
    "\n",
    "# Encontrar índices de variáveis com alta correlação\n",
    "to_drop = [column for column in upper.columns if any(upper[column] > 0.7)]\n",
    "\n",
    "# Remover variáveis com alta correlação da base de dados\n",
    "data_filtered = data.drop(columns=to_drop)\n",
    "\n",
    "# Definir as variáveis independentes e dependentes\n",
    "X_filtered = data_filtered.drop(columns=['PediuDemissão_Sim'])\n",
    "X_filtered = sm.add_constant(X_filtered)\n",
    "y_filtered = data_filtered['PediuDemissão_Sim']\n",
    "\n",
    "# Criar e ajustar o modelo de regressão logística com as variáveis filtradas\n",
    "model_filtered = sm.Logit(y_filtered, X_filtered)\n",
    "result_filtered = model_filtered.fit()\n",
    "\n",
    "# Imprimir os resultados\n",
    "print(result_filtered.summary())\n"
   ]
  },
  {
   "cell_type": "code",
   "execution_count": null,
   "id": "44af4298",
   "metadata": {},
   "outputs": [],
   "source": []
  }
 ],
 "metadata": {
  "kernelspec": {
   "display_name": "Python 3",
   "language": "python",
   "name": "python3"
  },
  "language_info": {
   "codemirror_mode": {
    "name": "ipython",
    "version": 3
   },
   "file_extension": ".py",
   "mimetype": "text/x-python",
   "name": "python",
   "nbconvert_exporter": "python",
   "pygments_lexer": "ipython3",
   "version": "3.8.8"
  }
 },
 "nbformat": 4,
 "nbformat_minor": 5
}
